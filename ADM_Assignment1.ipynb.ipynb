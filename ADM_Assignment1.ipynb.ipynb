{
  "nbformat": 4,
  "nbformat_minor": 0,
  "metadata": {
    "colab": {
      "provenance": [],
      "collapsed_sections": [
        "QP_WXHQJ0KxA",
        "xgW0KDSSV6dC",
        "C_jd-2cQWcNs",
        "N73VnlNAWprD",
        "HmgDDqeNW2De"
      ]
    },
    "kernelspec": {
      "name": "python3",
      "display_name": "Python 3"
    },
    "language_info": {
      "name": "python"
    }
  },
  "cells": [
    {
      "cell_type": "markdown",
      "source": [
        "# **ADM Assignment 1**"
      ],
      "metadata": {
        "id": "BFH7G7BNFqKU"
      }
    },
    {
      "cell_type": "markdown",
      "source": [
        "# Personal Information\n",
        "\n",
        "**Name:** Hazem Aboulfotouh\n",
        "\n",
        "**Matricola:** 2105193\n",
        "\n",
        "**E-mail:** Aboulfotouh.2105193@studenti.uniroma1.it"
      ],
      "metadata": {
        "id": "mq05rWjKzgcC"
      }
    },
    {
      "cell_type": "markdown",
      "source": [
        "# Problem 1\n",
        "\n"
      ],
      "metadata": {
        "id": "ycXTTymoy3ua"
      }
    },
    {
      "cell_type": "markdown",
      "source": [
        "### Hello World"
      ],
      "metadata": {
        "id": "QP_WXHQJ0KxA"
      }
    },
    {
      "cell_type": "code",
      "source": [
        "print(\"Hello, World!\")"
      ],
      "metadata": {
        "id": "C1t-g8oizZx4"
      },
      "execution_count": null,
      "outputs": []
    },
    {
      "cell_type": "markdown",
      "source": [
        "### Python if-else"
      ],
      "metadata": {
        "id": "xgW0KDSSV6dC"
      }
    },
    {
      "cell_type": "code",
      "source": [
        "#!/bin/python3\n",
        "\n",
        "import math\n",
        "import os\n",
        "import random\n",
        "import re\n",
        "import sys\n",
        "if __name__ == '__main__':\n",
        "    n = int(input().strip())\n",
        "    if n%2 != 0:\n",
        "        print('Weird')\n",
        "\n",
        "    elif n >= 2 and n <= 5:\n",
        "        print('Not Weird')\n",
        "\n",
        "    elif n >= 6 and n <= 20:\n",
        "        print('Weird')\n",
        "\n",
        "    elif n > 20:\n",
        "        print('Not Weird')\n"
      ],
      "metadata": {
        "id": "eEV7H3F3V9g9"
      },
      "execution_count": null,
      "outputs": []
    },
    {
      "cell_type": "markdown",
      "source": [
        "### Arithmetic Operators\n"
      ],
      "metadata": {
        "id": "C_jd-2cQWcNs"
      }
    },
    {
      "cell_type": "code",
      "source": [
        "if __name__ == '__main__':\n",
        "    a = int(input())\n",
        "    b = int(input())\n",
        "\n",
        "    print(a+b)\n",
        "    print(a-b)\n",
        "    print(a*b)\n"
      ],
      "metadata": {
        "id": "dJ6egmvTWhqS"
      },
      "execution_count": null,
      "outputs": []
    },
    {
      "cell_type": "markdown",
      "source": [
        "### Python: Division"
      ],
      "metadata": {
        "id": "N73VnlNAWprD"
      }
    },
    {
      "cell_type": "code",
      "source": [
        "if __name__ == '__main__':\n",
        "    a = int(input())\n",
        "    b = int(input())\n",
        "\n",
        "    print(a//b)\n",
        "    print(a/b)\n"
      ],
      "metadata": {
        "id": "4t8SnIqhWxtW"
      },
      "execution_count": null,
      "outputs": []
    },
    {
      "cell_type": "markdown",
      "source": [
        "### Loops"
      ],
      "metadata": {
        "id": "HmgDDqeNW2De"
      }
    },
    {
      "cell_type": "code",
      "source": [
        "if __name__ == '__main__':\n",
        "    n = int(input())\n",
        "\n",
        "    numbers = [x for x in range(0,n)]\n",
        "\n",
        "    for x in numbers:\n",
        "        print(x*x)\n"
      ],
      "metadata": {
        "id": "eUvx4SoKW6zk"
      },
      "execution_count": null,
      "outputs": []
    },
    {
      "cell_type": "markdown",
      "source": [
        "### Write a Function"
      ],
      "metadata": {
        "id": "DNf2vbm3XBCU"
      }
    },
    {
      "cell_type": "code",
      "source": [
        "def is_leap(year):\n",
        "    leap = False\n",
        "\n",
        "    # Write your logic here\n",
        "    if year % 4 == 0:\n",
        "        leap = True\n",
        "        if year % 100 == 0:\n",
        "            leap = False\n",
        "            if year % 400 == 0:\n",
        "                leap = True\n",
        "\n",
        "\n",
        "    return leap\n",
        "\n"
      ],
      "metadata": {
        "id": "aZVs5EYjXKYy"
      },
      "execution_count": null,
      "outputs": []
    },
    {
      "cell_type": "markdown",
      "source": [
        "### Print Function"
      ],
      "metadata": {
        "id": "ZvgEDMrSXPWZ"
      }
    },
    {
      "cell_type": "code",
      "source": [
        "if __name__ == '__main__':\n",
        "    n = int(input())\n",
        "\n",
        "    numbers = ''\n",
        "\n",
        "    for x in range(1, n+1):\n",
        "        numbers = numbers + (str(x))\n",
        "\n",
        "    print(numbers)\n"
      ],
      "metadata": {
        "id": "mbSz_B4fXVTa"
      },
      "execution_count": null,
      "outputs": []
    },
    {
      "cell_type": "markdown",
      "source": [
        "### List Comprehensions"
      ],
      "metadata": {
        "id": "5hDWIGf2XWL4"
      }
    },
    {
      "cell_type": "code",
      "source": [
        "if __name__ == '__main__':\n",
        "    x = int(input())\n",
        "    y = int(input())\n",
        "    z = int(input())\n",
        "    n = int(input())\n",
        "\n",
        "Possible_permutations = [[i, j, k] for i in range(x + 1) for j in range(y + 1) for k in range(z + 1) if i + j + k != n]\n",
        "\n",
        "print(Possible_permutations)\n"
      ],
      "metadata": {
        "id": "YNdMFjl5Xejj"
      },
      "execution_count": null,
      "outputs": []
    },
    {
      "cell_type": "markdown",
      "source": [
        "### Find the Runner-Up Score!"
      ],
      "metadata": {
        "id": "5kwS2HvbXfa0"
      }
    },
    {
      "cell_type": "code",
      "source": [
        "if __name__ == '__main__':\n",
        "    n = int(input())\n",
        "    arr = map(int, input().split())\n",
        "import heapq\n",
        "largest_two = heapq.nlargest(2,set(arr))\n",
        "\n",
        "print(largest_two[1])\n"
      ],
      "metadata": {
        "id": "2mZAPDR7Xl5P"
      },
      "execution_count": null,
      "outputs": []
    },
    {
      "cell_type": "markdown",
      "source": [
        "### Nested Lists"
      ],
      "metadata": {
        "id": "q1m_4sTJXq-t"
      }
    },
    {
      "cell_type": "code",
      "source": [
        "if __name__ == '__main__':\n",
        "\n",
        "    dict1 = []\n",
        "    scores = []\n",
        "    import heapq\n",
        "\n",
        "    for _ in range(int(input())):\n",
        "        name = input()\n",
        "        score = float(input())\n",
        "        scores.append(score)\n",
        "        dict1.append([name,score])\n",
        "\n",
        "    scores = set(scores)\n",
        "    smallest = heapq.nsmallest(2,scores)\n",
        "    names = []\n",
        "    for i in range(len(dict1)):\n",
        "        if dict1[i][1] == smallest[1]:\n",
        "            names.append(str(dict1[i][0]))\n",
        "\n",
        "    names.sort()\n",
        "    for i in names:\n",
        "        print(i)\n",
        "\n"
      ],
      "metadata": {
        "id": "4b1-PQwcX0Hs"
      },
      "execution_count": null,
      "outputs": []
    },
    {
      "cell_type": "markdown",
      "source": [
        "### Finding the Precentage"
      ],
      "metadata": {
        "id": "lRAm1WGIX1hG"
      }
    },
    {
      "cell_type": "code",
      "source": [
        "if __name__ == '__main__':\n",
        "    n = int(input())\n",
        "    student_marks = {}\n",
        "    for _ in range(n):\n",
        "        name, *line = input().split()\n",
        "        scores = list(map(float, line))\n",
        "        student_marks[name] = scores\n",
        "    query_name = input()\n",
        "\n",
        "    average = (sum(student_marks[query_name])/len(student_marks[query_name]))\n",
        "\n",
        "    formatted_avg = f\"{average:.2f}\"\n",
        "    print(formatted_avg)\n"
      ],
      "metadata": {
        "id": "J-3npgvgX_gu"
      },
      "execution_count": null,
      "outputs": []
    },
    {
      "cell_type": "markdown",
      "source": [
        "### Lists"
      ],
      "metadata": {
        "id": "loQjJKdNYFaX"
      }
    },
    {
      "cell_type": "code",
      "source": [
        "if __name__ == '__main__':\n",
        "    my_list = []\n",
        "\n",
        "    N = int(input())\n",
        "    my_list = []\n",
        "\n",
        "\n",
        "    for _ in range(N):\n",
        "        command = input().split()\n",
        "        action = command[0]\n",
        "\n",
        "        if action == \"insert\":\n",
        "            position = int(command[1])\n",
        "            element = int(command[2])\n",
        "            my_list.insert(position, element)\n",
        "\n",
        "        elif action == \"print\":\n",
        "            print(my_list)\n",
        "\n",
        "        elif action == \"remove\":\n",
        "            element = int(command[1])\n",
        "            my_list.remove(element)\n",
        "\n",
        "        elif action == \"append\":\n",
        "            element = int(command[1])\n",
        "            my_list.append(element)\n",
        "\n",
        "        elif action == \"sort\":\n",
        "            my_list.sort()\n",
        "\n",
        "        elif action == \"pop\":\n",
        "            my_list.pop()\n",
        "\n",
        "        elif action == \"reverse\":\n",
        "            my_list.reverse()\n"
      ],
      "metadata": {
        "id": "Pmd8hFgBYLDp"
      },
      "execution_count": null,
      "outputs": []
    },
    {
      "cell_type": "markdown",
      "source": [
        "### Tuples"
      ],
      "metadata": {
        "id": "OI-YoGyPYNOF"
      }
    },
    {
      "cell_type": "code",
      "source": [
        "if __name__ == '__main__':\n",
        "    n = int(input())\n",
        "    integer_list = map(int, input().split())\n",
        "\n",
        "    t = tuple(integer_list)\n",
        "    print(hash(t))\n"
      ],
      "metadata": {
        "id": "mulyIgmbYPVK"
      },
      "execution_count": null,
      "outputs": []
    },
    {
      "cell_type": "markdown",
      "source": [
        "### String Split and Join"
      ],
      "metadata": {
        "id": "HeHVv-L0YT2x"
      }
    },
    {
      "cell_type": "code",
      "source": [
        "\n",
        "\n",
        "def split_and_join(line):\n",
        "    # write your code here\n",
        "\n",
        "    line = line.split(' ')\n",
        "    return \"-\".join(line)\n",
        "\n",
        "if __name__ == '__main__':\n",
        "    line = input()\n",
        "    result = split_and_join(line)\n",
        "    print(result)\n"
      ],
      "metadata": {
        "id": "GcFnTjkbYaXu"
      },
      "execution_count": null,
      "outputs": []
    },
    {
      "cell_type": "markdown",
      "source": [
        "### Whats Yuur Name?"
      ],
      "metadata": {
        "id": "oR_YD9vBYbOt"
      }
    },
    {
      "cell_type": "code",
      "source": [
        "\n",
        "def print_full_name(first, last):\n",
        "    # Write your code here\n",
        "    print('Hello',first, last+'! You just delved into python.')\n"
      ],
      "metadata": {
        "id": "De4D6HMIYfxV"
      },
      "execution_count": null,
      "outputs": []
    },
    {
      "cell_type": "markdown",
      "source": [
        "### Mutations"
      ],
      "metadata": {
        "id": "UWApqng2Yr3F"
      }
    },
    {
      "cell_type": "code",
      "source": [
        "def mutate_string(string, position, character):\n",
        "    new_string = string[:position] + character + string[position + 1:]\n",
        "    return new_string\n",
        "\n"
      ],
      "metadata": {
        "id": "Str6A_khY0Lh"
      },
      "execution_count": null,
      "outputs": []
    },
    {
      "cell_type": "markdown",
      "source": [
        "### Find a String"
      ],
      "metadata": {
        "id": "33MnH8xMY9zY"
      }
    },
    {
      "cell_type": "code",
      "source": [
        "def count_substring(string, sub_string):\n",
        "\n",
        "    c = 0\n",
        "    for i in range(len(string) - len(sub_string) + 1):\n",
        "        if string[i:i + len(sub_string)] == sub_string:\n",
        "            c += 1\n",
        "    return c\n",
        "\n"
      ],
      "metadata": {
        "id": "XHi8WrY-Y_RM"
      },
      "execution_count": null,
      "outputs": []
    },
    {
      "cell_type": "markdown",
      "source": [
        "### Swap Case"
      ],
      "metadata": {
        "id": "Mnb6-JIJZCLY"
      }
    },
    {
      "cell_type": "code",
      "source": [
        "def swap_case(s):\n",
        "\n",
        "    new_s = []\n",
        "\n",
        "    for i in s:\n",
        "        if i.isupper():\n",
        "            i = i.lower()\n",
        "            new_s.append(i)\n",
        "\n",
        "        elif i.islower():\n",
        "            i = i.upper()\n",
        "            new_s.append(i)\n",
        "\n",
        "        else:\n",
        "            new_s.append(i)\n",
        "    return ''.join(new_s)\n",
        "\n"
      ],
      "metadata": {
        "id": "8TV3rk3KZEgZ"
      },
      "execution_count": null,
      "outputs": []
    },
    {
      "cell_type": "markdown",
      "source": [
        "### String Validators"
      ],
      "metadata": {
        "id": "Hpr9iSc1ZI2f"
      }
    },
    {
      "cell_type": "code",
      "source": [
        "if __name__ == '__main__':\n",
        "\n",
        "  s = input()\n",
        "\n",
        "  print(any(char.isalnum() for char in s))\n",
        "  print(any(char.isalpha() for char in s))\n",
        "  print(any(char.isdigit() for char in s))\n",
        "  print(any(char.islower() for char in s))\n",
        "  print(any(char.isupper() for char in s))\n"
      ],
      "metadata": {
        "id": "TsqSfMo-ZWSh"
      },
      "execution_count": null,
      "outputs": []
    },
    {
      "cell_type": "markdown",
      "source": [
        "### Text Wrap"
      ],
      "metadata": {
        "id": "HDvkzZ2rZwdb"
      }
    },
    {
      "cell_type": "code",
      "source": [
        "\n",
        "def wrap(string, max_width):\n",
        "\n",
        "    words = []\n",
        "    for i in range(0, len(string), max_width):\n",
        "         words.append(string[i:i+max_width])\n",
        "\n",
        "    strings = '\\n'.join(words)\n",
        "\n",
        "    return strings\n",
        "\n"
      ],
      "metadata": {
        "id": "8pJRX4bHZzzc"
      },
      "execution_count": 1,
      "outputs": []
    },
    {
      "cell_type": "markdown",
      "source": [
        "### Designer Door Mat"
      ],
      "metadata": {
        "id": "WlnznvmzZ2Jd"
      }
    },
    {
      "cell_type": "code",
      "source": [
        "def door_mat(rows, columns):\n",
        "\n",
        "    pattern = [('.|.' * (2 * i + 1)).center(columns, '-') for i in range(rows // 2)]\n",
        "    welcome = 'WELCOME'.center(columns, '-')\n",
        "    mat = '\\n'.join(pattern + [welcome] + pattern[::-1])\n",
        "    return mat\n",
        "\n",
        "if __name__ == \"__main__\":\n",
        "\n",
        "    i, j = map(int, input().split())\n",
        "    mat = door_mat(i, j)\n",
        "    print(mat)\n"
      ],
      "metadata": {
        "id": "44bcJHohZ9wK"
      },
      "execution_count": null,
      "outputs": []
    },
    {
      "cell_type": "markdown",
      "source": [
        "### String Formatting"
      ],
      "metadata": {
        "id": "Gyt0kxvPaDmj"
      }
    },
    {
      "cell_type": "code",
      "source": [
        "def print_formatted(number):\n",
        "\n",
        "\n",
        "    width = len(bin(number)[2:])\n",
        "\n",
        "    for i in range(1, number + 1):\n",
        "\n",
        "        decimal = str(i).rjust(width)\n",
        "        octal = oct(i)[2:].rjust(width)\n",
        "        hexadecimal = hex(i)[2:].upper().rjust(width)\n",
        "        binary = bin(i)[2:].rjust(width)\n",
        "\n",
        "        print(decimal, octal, hexadecimal, binary)\n",
        "\n"
      ],
      "metadata": {
        "id": "oRDgbMhJaH_f"
      },
      "execution_count": 2,
      "outputs": []
    },
    {
      "cell_type": "markdown",
      "source": [
        "### Capitalize"
      ],
      "metadata": {
        "id": "hLMNQZIzaMCc"
      }
    },
    {
      "cell_type": "code",
      "source": [
        "def solve(s):\n",
        "\n",
        "    names = s.split(' ')\n",
        "    capitalized_names = []\n",
        "\n",
        "    for name in names:\n",
        "        if name.isalpha():\n",
        "            capitalized_name = name[0].upper() + name[1:].lower()\n",
        "            capitalized_names.append(capitalized_name)\n",
        "        else:\n",
        "            capitalized_names.append(name)\n",
        "\n",
        "    return ' '.join(capitalized_names)\n",
        "\n"
      ],
      "metadata": {
        "id": "vinWEfQDacVG"
      },
      "execution_count": null,
      "outputs": []
    },
    {
      "cell_type": "markdown",
      "source": [
        "### Introduction to sets"
      ],
      "metadata": {
        "id": "OdqOJ8aOafEy"
      }
    },
    {
      "cell_type": "code",
      "source": [
        "def average(array):\n",
        "    # your code goes here\n",
        "    distinct = []\n",
        "    distinct = set(array)\n",
        "    return sum(distinct)/len(distinct)\n",
        "\n"
      ],
      "metadata": {
        "id": "Yf4-wMq8alfV"
      },
      "execution_count": null,
      "outputs": []
    },
    {
      "cell_type": "markdown",
      "source": [
        "### Symmetric Difference"
      ],
      "metadata": {
        "id": "eYGiGQ0DdSzK"
      }
    },
    {
      "cell_type": "code",
      "source": [
        "m = int(input())\n",
        "a = set(map(int, input().split()))\n",
        "n = int(input())\n",
        "b = set(map(int, input().split()))\n",
        "\n",
        "diff = sorted(a.symmetric_difference(b))\n",
        "\n",
        "for element in diff:\n",
        "    print(element)\n"
      ],
      "metadata": {
        "id": "qjVhWF5wdZCd"
      },
      "execution_count": null,
      "outputs": []
    },
    {
      "cell_type": "markdown",
      "source": [
        "### Set_add"
      ],
      "metadata": {
        "id": "ryoE3t_cdimj"
      }
    },
    {
      "cell_type": "code",
      "source": [
        "m = int(input())\n",
        "mylist = []\n",
        "for i in range(m):\n",
        "    mylist.append(input())\n",
        "\n",
        "set_a = set(mylist)\n",
        "\n",
        "print(len(set_a))\n"
      ],
      "metadata": {
        "id": "0K9c648Xdorp"
      },
      "execution_count": null,
      "outputs": []
    },
    {
      "cell_type": "markdown",
      "source": [
        "### Set .discard(), .remove() & .pop()"
      ],
      "metadata": {
        "id": "NxD8C6Fqdqqj"
      }
    },
    {
      "cell_type": "code",
      "source": [
        "n = int(input())\n",
        "s = set(map(int, input().split()))\n",
        "commands = int(input())\n",
        "\n",
        "for _ in range(commands):\n",
        "    command = input().split()\n",
        "\n",
        "    if s and command[0] == \"pop\" :\n",
        "        s.pop()\n",
        "\n",
        "    elif command[0] == \"remove\":\n",
        "        if command[1] in s:\n",
        "            s.remove(int(command[1]))\n",
        "\n",
        "    elif command[0] == \"discard\":\n",
        "        s.discard(int(command[1]))\n",
        "\n",
        "print(sum(s))\n"
      ],
      "metadata": {
        "id": "bT6FfzIPduX1"
      },
      "execution_count": null,
      "outputs": []
    },
    {
      "cell_type": "markdown",
      "source": [
        "### Set .union() Operation"
      ],
      "metadata": {
        "id": "E7DzMCSAd03A"
      }
    },
    {
      "cell_type": "code",
      "source": [
        "# Enter your code here. Read input from STDIN. Print output to STDOUT\n",
        "n = int(input())\n",
        "set1 = set(map(int, input().split()))\n",
        "\n",
        "b = int(input())\n",
        "set2 = set(map(int, input().split()))\n",
        "\n",
        "print(len(set(set1.union(set2))))\n"
      ],
      "metadata": {
        "id": "1ppmwj_SecZu"
      },
      "execution_count": null,
      "outputs": []
    },
    {
      "cell_type": "markdown",
      "source": [
        "### Set .intersection() Operation\n"
      ],
      "metadata": {
        "id": "xK8NEarDeedk"
      }
    },
    {
      "cell_type": "code",
      "source": [
        "\n",
        "m = int(input())\n",
        "s1 = set(map(int, input().split()))\n",
        "n = int(input())\n",
        "s2 = set(map(int, input().split()))\n",
        "\n",
        "inter1 = s1.intersection(s2)\n",
        "inter2 = s2.intersection(s1)\n",
        "\n",
        "print(len(inter1.union(inter2)))\n"
      ],
      "metadata": {
        "id": "bvk10ePWelDC"
      },
      "execution_count": null,
      "outputs": []
    },
    {
      "cell_type": "markdown",
      "source": [
        "### Set .difference() Operation"
      ],
      "metadata": {
        "id": "IBOALI7xeqsS"
      }
    },
    {
      "cell_type": "code",
      "source": [
        "# Enter your code here. Read input from STDIN. Print output to STDOUT\n",
        "\n",
        "m = int(input())\n",
        "s1 = set(map(int, input().split()))\n",
        "n = int(input())\n",
        "s2 = set(map(int, input().split()))\n",
        "\n",
        "print(len(s1.difference(s2)))\n"
      ],
      "metadata": {
        "id": "Ti_w2WgJetsq"
      },
      "execution_count": null,
      "outputs": []
    },
    {
      "cell_type": "markdown",
      "source": [
        "### Set .symmetric_difference() Operation"
      ],
      "metadata": {
        "id": "BSvoXN0jexBN"
      }
    },
    {
      "cell_type": "code",
      "source": [
        "# Enter your code here. Read input from STDIN. Print output to STDOUT\n",
        "\n",
        "m = int(input())\n",
        "s1 = set(map(int, input().split()))\n",
        "n = int(input())\n",
        "s2 = set(map(int, input().split()))\n",
        "\n",
        "print(len(s1.symmetric_difference(s2)))\n"
      ],
      "metadata": {
        "id": "dL8l9R6qe0uN"
      },
      "execution_count": null,
      "outputs": []
    },
    {
      "cell_type": "markdown",
      "source": [
        "### Set Mutations"
      ],
      "metadata": {
        "id": "ckqf-R0pe3Wq"
      }
    },
    {
      "cell_type": "code",
      "source": [
        "# Enter your code here. Read input from STDIN. Print output to STDOUT\n",
        "\n",
        "n = int(input())\n",
        "A = set(map(int, input().split()))\n",
        "N = int(input())\n",
        "\n",
        "for i in range(N):\n",
        "    operation = input().split()\n",
        "    operation_set = set(map(int, input().split()))\n",
        "\n",
        "    if operation[0] == 'intersection_update':\n",
        "        A.intersection_update(operation_set)\n",
        "\n",
        "    elif operation[0] == 'update':\n",
        "        A.update(operation_set)\n",
        "\n",
        "    elif operation[0] == 'symmetric_difference_update':\n",
        "        A.symmetric_difference_update(operation_set)\n",
        "\n",
        "    elif operation[0] == 'difference_update':\n",
        "        A.difference_update(operation_set)\n",
        "\n",
        "print(sum(A))\n"
      ],
      "metadata": {
        "id": "DwwJnnNGfCdb"
      },
      "execution_count": null,
      "outputs": []
    },
    {
      "cell_type": "markdown",
      "source": [
        "### The Captain's Room"
      ],
      "metadata": {
        "id": "3Vlw4oVDfIqY"
      }
    },
    {
      "cell_type": "code",
      "source": [
        "# Enter your code here. Read input from STDIN. Print output to STDOUT\n",
        "\n",
        "from collections import Counter\n",
        "\n",
        "k = int(input())\n",
        "rooms = list(map(int, input().split()))\n",
        "\n",
        "frequency = Counter(rooms)\n",
        "\n",
        "for key, value in frequency.items():\n",
        "    if value == 1:\n",
        "        print(key)\n",
        "\n"
      ],
      "metadata": {
        "id": "2jd8m0rTfPi2"
      },
      "execution_count": null,
      "outputs": []
    },
    {
      "cell_type": "markdown",
      "source": [
        "### Check Subset"
      ],
      "metadata": {
        "id": "xKrLaJ3VfQUD"
      }
    },
    {
      "cell_type": "code",
      "source": [
        "# Enter your code here. Read input from STDIN. Print output to STDOUT\n",
        "\n",
        "T = int(input())\n",
        "\n",
        "for i in range(T):\n",
        "\n",
        "    M = int(input())\n",
        "    A = set(map(int, input().split()))\n",
        "    N = int(input())\n",
        "    B = set(map(int, input().split()))\n",
        "\n",
        "    if A.issubset(B):\n",
        "        print('True')\n",
        "\n",
        "    else:\n",
        "        print('False')\n",
        ""
      ],
      "metadata": {
        "id": "snoTYedMfVaj"
      },
      "execution_count": null,
      "outputs": []
    },
    {
      "cell_type": "markdown",
      "source": [
        "### Check Strict Superset"
      ],
      "metadata": {
        "id": "kcDB2-2CfX3P"
      }
    },
    {
      "cell_type": "code",
      "source": [
        "# Enter your code here. Read input from STDIN. Print output to STDOUT\n",
        "\n",
        "A = set(map(int, input().split()))\n",
        "n = int(input())\n",
        "boolean = False\n",
        "\n",
        "\n",
        "for i in range(n):\n",
        "    B = set(map(int, input().split()))\n",
        "    if not B.issubset(A) or B == A :\n",
        "        boolean = False\n",
        "        break\n",
        "    else:\n",
        "        boolean = True\n",
        "\n",
        "print(boolean)"
      ],
      "metadata": {
        "id": "ljqu9QGaffim"
      },
      "execution_count": null,
      "outputs": []
    },
    {
      "cell_type": "markdown",
      "source": [
        "### No Idea!"
      ],
      "metadata": {
        "id": "ECiLPg1RfiF7"
      }
    },
    {
      "cell_type": "code",
      "source": [
        "# Enter your code here. Read input from STDIN. Print output to STDOUT\n",
        "n, m = list(map(int, input().split()))\n",
        "arr = list(map(int, input().split()))\n",
        "A = set(map(int, input().split()))\n",
        "B = set(map(int, input().split()))\n",
        "H = 0\n",
        "\n",
        "for i in arr:\n",
        "    if i in A:\n",
        "        H += 1\n",
        "\n",
        "    elif i in B:\n",
        "        H -= 1\n",
        "\n",
        "print(H)\n"
      ],
      "metadata": {
        "id": "gQbXXK10fqZ4"
      },
      "execution_count": null,
      "outputs": []
    },
    {
      "cell_type": "markdown",
      "source": [
        "### Calender Module"
      ],
      "metadata": {
        "id": "2_VmS1mAftm7"
      }
    },
    {
      "cell_type": "code",
      "source": [
        "import datetime\n",
        "\n",
        "mylist = list(map(int, input().split()))\n",
        "date_obj = datetime.date(mylist[2], mylist[0], mylist[1])\n",
        "print(date_obj.strftime(\"%A\").upper())\n"
      ],
      "metadata": {
        "id": "BrYa2VPwfxxN"
      },
      "execution_count": null,
      "outputs": []
    },
    {
      "cell_type": "markdown",
      "source": [
        "### Time Delta"
      ],
      "metadata": {
        "id": "1nOouEsgf1cb"
      }
    },
    {
      "cell_type": "code",
      "source": [
        "#!/bin/python3\n",
        "\n",
        "import math\n",
        "import os\n",
        "import random\n",
        "import re\n",
        "import sys\n",
        "from datetime import datetime\n",
        "\n",
        "# Complete the time_delta function below.\n",
        "def time_delta(t1, t2):\n",
        "\n",
        "    t1_obj = datetime.strptime(t1, '%a %d %b %Y %H:%M:%S %z')\n",
        "    t2_obj = datetime.strptime(t2, '%a %d %b %Y %H:%M:%S %z')\n",
        "\n",
        "    t1_seconds = int(t1_obj.timestamp())\n",
        "    t2_seconds = int(t2_obj.timestamp())\n",
        "\n",
        "    return abs(t1_seconds - t2_seconds)\n",
        "\n",
        "if __name__ == '__main__':\n",
        "    fptr = open(os.environ['OUTPUT_PATH'], 'w')\n",
        "\n",
        "    t = int(input().strip())\n",
        "\n",
        "    for _ in range(t):\n",
        "        t1 = input().strip()\n",
        "        t2 = input().strip()\n",
        "\n",
        "        delta = time_delta(t1, t2)\n",
        "\n",
        "        fptr.write(str(delta) + '\\n')\n",
        "\n",
        "    fptr.close()\n"
      ],
      "metadata": {
        "id": "vJ1jphd1f9kd"
      },
      "execution_count": null,
      "outputs": []
    },
    {
      "cell_type": "markdown",
      "source": [
        "### collections.Counter()\n"
      ],
      "metadata": {
        "id": "CQdmUhwhf-lQ"
      }
    },
    {
      "cell_type": "code",
      "source": [
        "# Enter your code here. Read input from STDIN. Print output to STDOUTg\n",
        "\n",
        "x = int(input())\n",
        "shoes = list(map(int, input().split()))\n",
        "n = int(input())\n",
        "profit = 0\n",
        "\n",
        "for i in range(n):\n",
        "    size, price = input().split()\n",
        "    if int(size) in shoes:\n",
        "        profit = profit + int(price)\n",
        "        shoes.remove(int(size))\n",
        "\n",
        "print(profit)"
      ],
      "metadata": {
        "id": "lHn0OnK0gEsk"
      },
      "execution_count": null,
      "outputs": []
    },
    {
      "cell_type": "markdown",
      "source": [
        "### Default Dict Tutorial"
      ],
      "metadata": {
        "id": "3Fupl75xgHXr"
      }
    },
    {
      "cell_type": "code",
      "source": [
        "# Enter your code here. Read input from STDIN. Print output to STDOUT5\n",
        "from collections import defaultdict\n",
        "n, m = input().split()\n",
        "A = defaultdict(list)\n",
        "B = []\n",
        "\n",
        "for i in range(int(n)):\n",
        "    A[input()].append(i+1)\n",
        "\n",
        "for i in range(int(m)):\n",
        "\n",
        "    indicies = A[input()]\n",
        "\n",
        "    if indicies:\n",
        "        print(*indicies)\n",
        "    else:\n",
        "        print('-1')"
      ],
      "metadata": {
        "id": "6UaAodFigQRF"
      },
      "execution_count": null,
      "outputs": []
    },
    {
      "cell_type": "markdown",
      "source": [
        "### Collections.namedtuple()\n"
      ],
      "metadata": {
        "id": "C6xlwbyjgT5X"
      }
    },
    {
      "cell_type": "code",
      "source": [
        "# Enter your code here. Read input from STDIN. Print output to STDOUT\n",
        "\n",
        "N = int(input())\n",
        "columns = list(map(str, input().split()))\n",
        "for i in range(len(columns)):\n",
        "    if columns[i] == 'MARKS':\n",
        "        index = i\n",
        "\n",
        "grades = []\n",
        "avg_score = 0\n",
        "\n",
        "for i in range(N):\n",
        "    grades.append(list(map(str, input().split())))\n",
        "    avg_score = avg_score + int(grades[i][index])\n",
        "\n",
        "avg_score = avg_score/N\n",
        "\n",
        "print(avg_score)"
      ],
      "metadata": {
        "id": "Y9L37_0IgYP-"
      },
      "execution_count": null,
      "outputs": []
    },
    {
      "cell_type": "markdown",
      "source": [
        "### Collections.OrderedDict()"
      ],
      "metadata": {
        "id": "4Bqpf1LVgaiy"
      }
    },
    {
      "cell_type": "code",
      "source": [
        "# Enter your code here. Read input from STDIN. Print output to STDOUT\n",
        "N = int(input())\n",
        "items = {}\n",
        "\n",
        "for i in range(N):\n",
        "    item = input().split()\n",
        "    name = ' '.join(item[:-1])\n",
        "    price = int(item[-1])\n",
        "\n",
        "    if name in items:\n",
        "        items[name] += price\n",
        "    else:\n",
        "        items[name] = price\n",
        "\n",
        "for name, total_price in items.items():\n",
        "    print(name, total_price)\n"
      ],
      "metadata": {
        "id": "J7I48NqTgeG9"
      },
      "execution_count": null,
      "outputs": []
    },
    {
      "cell_type": "markdown",
      "source": [
        "### Collections.deque()"
      ],
      "metadata": {
        "id": "ckWjlwdvgiKd"
      }
    },
    {
      "cell_type": "code",
      "source": [
        "# Enter your code here. Read input from STDIN. Print output to STDOUT\n",
        "from collections import deque\n",
        "d = deque()\n",
        "N = int(input())\n",
        "\n",
        "for i in range(N):\n",
        "\n",
        "    command = input().split()\n",
        "\n",
        "    if command[0] == 'append':\n",
        "        d.append(int(command[1]))\n",
        "\n",
        "    elif command[0] == 'appendleft':\n",
        "        d.appendleft(int(command[1]))\n",
        "\n",
        "    elif command[0] == 'pop':\n",
        "        d.pop()\n",
        "\n",
        "    elif command[0] == 'popleft':\n",
        "        d.popleft()\n",
        "\n",
        "print(*d)"
      ],
      "metadata": {
        "id": "7E1cjfJ_goJH"
      },
      "execution_count": null,
      "outputs": []
    },
    {
      "cell_type": "markdown",
      "source": [
        "### Word Order"
      ],
      "metadata": {
        "id": "GR1qtsRngqeo"
      }
    },
    {
      "cell_type": "code",
      "source": [
        "# Enter your code here. Read input from STDIN. Print output to STDOUT\n",
        "from collections import Counter\n",
        "\n",
        "N = int(input())\n",
        "words = []\n",
        "\n",
        "for i in range(N):\n",
        "    words.append(input())\n",
        "\n",
        "freq = Counter(words)\n",
        "\n",
        "print(len(set(words)))\n",
        "\n",
        "values = []\n",
        "for key, value in freq.items():\n",
        "    values.append(value)\n",
        "\n",
        "print(*values)\n"
      ],
      "metadata": {
        "id": "nfcOdEzqgvlR"
      },
      "execution_count": null,
      "outputs": []
    },
    {
      "cell_type": "markdown",
      "source": [
        "### Company Logo"
      ],
      "metadata": {
        "id": "xEViGzf2gwfT"
      }
    },
    {
      "cell_type": "code",
      "source": [
        "#!/bin/python3\n",
        "\n",
        "import math\n",
        "import os\n",
        "import random\n",
        "import re\n",
        "import sys\n",
        "from collections import Counter\n",
        "\n",
        "if __name__ == '__main__':\n",
        "    s = input()\n",
        "    chars = list(s)\n",
        "    freq = Counter(chars)\n",
        "    sorted_dict = dict(sorted(freq.items(), key=lambda item: (-item[1], item[0])))\n",
        "\n",
        "    c = 0\n",
        "\n",
        "    for key, value in sorted_dict.items():\n",
        "        print(key, value)\n",
        "        c+=1\n",
        "        if c == 3:\n",
        "            break"
      ],
      "metadata": {
        "id": "oCMbBj7Kg1Fi"
      },
      "execution_count": null,
      "outputs": []
    },
    {
      "cell_type": "markdown",
      "source": [
        "### Piling Up!"
      ],
      "metadata": {
        "id": "Ll82kTHig26e"
      }
    },
    {
      "cell_type": "code",
      "source": [
        "# Enter your code here. Read input from STDIN. Print output to STDOUT\n",
        "\n",
        "from collections import deque\n",
        "T = int(input())\n",
        "\n",
        "for i in range(T):\n",
        "\n",
        "    n = int(input())\n",
        "    cubes = deque(map(int, input().split()))\n",
        "    pile = []\n",
        "\n",
        "\n",
        "    for i in range(n):\n",
        "\n",
        "        if cubes[0] >= cubes[-1]:\n",
        "\n",
        "            pile.append(cubes[0])\n",
        "            cubes.popleft()\n",
        "\n",
        "        elif cubes[0] < cubes[-1]:\n",
        "\n",
        "            pile.append(cubes[-1])\n",
        "            cubes.pop()\n",
        "\n",
        "    if pile == sorted(pile, reverse=True):\n",
        "        print('Yes')\n",
        "\n",
        "    else:\n",
        "        print('No')\n",
        "\n"
      ],
      "metadata": {
        "id": "WYTOYleIg842"
      },
      "execution_count": null,
      "outputs": []
    },
    {
      "cell_type": "markdown",
      "source": [
        "### Exceptions"
      ],
      "metadata": {
        "id": "45wipn-Ug-SP"
      }
    },
    {
      "cell_type": "code",
      "source": [
        "# Enter your code here. Read input from STDIN. Print output to STDOUT\n",
        "\n",
        "T = int(input())\n",
        "\n",
        "for i in range(T):\n",
        "\n",
        "    numbers = input().split()\n",
        "    try:\n",
        "        A = int(numbers[0])\n",
        "        B = int(numbers[1])\n",
        "        result = A // B\n",
        "        print(result)\n",
        "    except Exception as e:\n",
        "        print('Error Code:', e)"
      ],
      "metadata": {
        "id": "ohlGl-fAhDC7"
      },
      "execution_count": null,
      "outputs": []
    },
    {
      "cell_type": "markdown",
      "source": [
        "### Zipped"
      ],
      "metadata": {
        "id": "YWS6TAZcvuCE"
      }
    },
    {
      "cell_type": "code",
      "source": [
        "# Enter your code here. Read input from STDIN. Print output to STDOUT\n",
        "\n",
        "N, X = input().split()\n",
        "grades = []\n",
        "\n",
        "for i in range(int(X)):\n",
        "\n",
        "    grade = list(map(float, input().split()))\n",
        "    grades.append(grade)\n",
        "\n",
        "for i in range(int(N)):\n",
        "    student_grade = 0.0\n",
        "    for j in range(int(X)):\n",
        "        student_grade += grades[j][i]\n",
        "\n",
        "    print(student_grade / int(X))\n",
        ""
      ],
      "metadata": {
        "id": "u-w8FJ_KvveB"
      },
      "execution_count": null,
      "outputs": []
    },
    {
      "cell_type": "markdown",
      "source": [
        "### Athlete Sort"
      ],
      "metadata": {
        "id": "TCW5Z2omvwj1"
      }
    },
    {
      "cell_type": "code",
      "source": [
        "#!/bin/python3\n",
        "\n",
        "import math\n",
        "import os\n",
        "import random\n",
        "import re\n",
        "import sys\n",
        "\n",
        "if __name__ == '__main__':\n",
        "    nm = input().split()\n",
        "\n",
        "    n = int(nm[0])\n",
        "\n",
        "    m = int(nm[1])\n",
        "\n",
        "    arr = []\n",
        "\n",
        "    for _ in range(n):\n",
        "        arr.append(list(map(int, input().rstrip().split())))\n",
        "\n",
        "    k = int(input())\n",
        "\n",
        "    arr_sorted = sorted(arr, key=lambda x: x[k])\n",
        "\n",
        "    for i in range(len(arr_sorted)):\n",
        "        print(*arr_sorted[i])\n"
      ],
      "metadata": {
        "id": "3wbjcGXUv5lM"
      },
      "execution_count": null,
      "outputs": []
    },
    {
      "cell_type": "markdown",
      "source": [
        "### ginortS"
      ],
      "metadata": {
        "id": "_qCNo3Ytv7Gq"
      }
    },
    {
      "cell_type": "code",
      "source": [
        "string = input()\n",
        "\n",
        "sorted_string = sorted(string, key=lambda x: (x.isdigit(), x.isdigit() and int(x) % 2 == 0, x.isupper(), x))\n",
        "\n",
        "output = ''.join(sorted_string)\n",
        "print(output)\n"
      ],
      "metadata": {
        "id": "5nWSluE9wDUB"
      },
      "execution_count": null,
      "outputs": []
    },
    {
      "cell_type": "markdown",
      "source": [
        "### Map and Lambda Function"
      ],
      "metadata": {
        "id": "pQ3IBrW6wGZx"
      }
    },
    {
      "cell_type": "code",
      "source": [
        "cube = lambda x:x*x*x # complete the lambda function\n",
        "\n",
        "def fibonacci(n):\n",
        "\n",
        "    if n == 0:\n",
        "        return []\n",
        "\n",
        "    elif n == 1:\n",
        "        return [0]\n",
        "\n",
        "    elif n == 2:\n",
        "        return [0, 1]\n",
        "\n",
        "    fib = [0, 1]\n",
        "    for i in range(2, n):\n",
        "        num = fib[-1] + fib[-2]\n",
        "        fib.append(num)\n",
        "\n",
        "    return(fib)"
      ],
      "metadata": {
        "id": "GCcsV0SdwNQO"
      },
      "execution_count": null,
      "outputs": []
    },
    {
      "cell_type": "markdown",
      "source": [
        "### Standardize Mobile Number Using Decorators\n"
      ],
      "metadata": {
        "id": "VRLHiNeQwPPw"
      }
    },
    {
      "cell_type": "code",
      "source": [
        "def wrapper(f):\n",
        "    def fun(l):\n",
        "\n",
        "        # complete the function\n",
        "        numbers_reformated = []\n",
        "\n",
        "        for number in l:\n",
        "\n",
        "            if len(number) == 10:\n",
        "                numbers_reformated.append(\"+91 \" + number[:5] + \" \" + number[5:])\n",
        "\n",
        "            elif len(number) == 11 and number[0] == '0':\n",
        "\n",
        "                numbers_reformated.append(\"+91 \" + number[1:6] + \" \" + number[6:])\n",
        "\n",
        "            elif len(number) == 12 and number[:2] == \"91\":\n",
        "                numbers_reformated.append(\"+91 \" + number[2:7] + \" \" + number[7:])\n",
        "\n",
        "            elif len(number) == 13 and number[:2] == \"+9\":\n",
        "                numbers_reformated.append(\"+91 \" + number[3:8] + \" \" + number[8:])\n",
        "\n",
        "\n",
        "\n",
        "        sorted_numbers = sorted(numbers_reformated)\n",
        "\n",
        "        f(sorted_numbers)\n",
        "\n",
        "    return fun\n",
        "\n"
      ],
      "metadata": {
        "id": "2oFcRG80wX3G"
      },
      "execution_count": null,
      "outputs": []
    },
    {
      "cell_type": "markdown",
      "source": [
        "### Decorators 2 -  Name Directory"
      ],
      "metadata": {
        "id": "Muqj4PomwgA_"
      }
    },
    {
      "cell_type": "code",
      "source": [
        "def person_lister(f):\n",
        "    def inner(people):\n",
        "\n",
        "        sorted_people = sorted(people, key=lambda x: int(x[2]))\n",
        "        formatted = []\n",
        "\n",
        "        for person in sorted_people:\n",
        "            formatted.append(f(person))\n",
        "\n",
        "        return formatted\n",
        "    return inner\n"
      ],
      "metadata": {
        "id": "CabvNR3ewmkg"
      },
      "execution_count": null,
      "outputs": []
    },
    {
      "cell_type": "markdown",
      "source": [
        "### Arrays"
      ],
      "metadata": {
        "id": "83WFO9sowoYD"
      }
    },
    {
      "cell_type": "code",
      "source": [
        "def arrays(arr):\n",
        "    # complete this function\n",
        "    # use numpy.array\n",
        "    arr = numpy.array(arr, float)\n",
        "    return numpy.flip(arr)\n",
        "\n"
      ],
      "metadata": {
        "id": "ZeCd8lGUwss7"
      },
      "execution_count": null,
      "outputs": []
    },
    {
      "cell_type": "markdown",
      "source": [
        "### Shape and Reshape"
      ],
      "metadata": {
        "id": "SisbRrC-wuur"
      }
    },
    {
      "cell_type": "code",
      "source": [
        "import numpy as np\n",
        "\n",
        "numbers = list(map(int, input().split()))\n",
        "arr = np.array(numbers)\n",
        "print(np.reshape(arr,(3,3)))"
      ],
      "metadata": {
        "id": "7aADdXRfwzPK"
      },
      "execution_count": null,
      "outputs": []
    },
    {
      "cell_type": "markdown",
      "source": [
        "### Transpose and Flatten"
      ],
      "metadata": {
        "id": "ushZlh3Tw2N7"
      }
    },
    {
      "cell_type": "code",
      "source": [
        "import numpy as np\n",
        "\n",
        "N, M = input().split()\n",
        "arr = []\n",
        "for i in range(int(N)):\n",
        "    row = list(map(int, input().split()))\n",
        "    arr.append(row)\n",
        "\n",
        "np_arr = np.array(arr)\n",
        "\n",
        "print(np.transpose(arr))\n",
        "print(np_arr.flatten())\n"
      ],
      "metadata": {
        "id": "UwbcrLUgw-MQ"
      },
      "execution_count": null,
      "outputs": []
    },
    {
      "cell_type": "markdown",
      "source": [
        "### Concatenate"
      ],
      "metadata": {
        "id": "faa8tSPrxCdc"
      }
    },
    {
      "cell_type": "code",
      "source": [
        "import numpy as np\n",
        "\n",
        "n, m, p = map(int, input().split())\n",
        "\n",
        "\n",
        "mat1 = []\n",
        "mat2 = []\n",
        "\n",
        "for i in range(n):\n",
        "    row = list(map(int, input().split()))\n",
        "    mat1.append(row)\n",
        "\n",
        "for i in range(m):\n",
        "    row = list(map(int, input().split()))\n",
        "    mat2.append(row)\n",
        "\n",
        "arr1 = np.array(mat1)\n",
        "arr2 = np.array(mat2)\n",
        "\n",
        "print (np.concatenate((arr1, arr2), axis = 0))\n"
      ],
      "metadata": {
        "id": "EvlWtPNExER1"
      },
      "execution_count": null,
      "outputs": []
    },
    {
      "cell_type": "markdown",
      "source": [
        "### Zeros and Ones"
      ],
      "metadata": {
        "id": "UCanHX23xFXQ"
      }
    },
    {
      "cell_type": "code",
      "source": [
        "import numpy\n",
        "\n",
        "size = tuple(map(int,input().strip().split()))\n",
        "print( numpy.zeros(size, int) )\n",
        "print( numpy.ones(size, int) )\n"
      ],
      "metadata": {
        "id": "J3F7vkKZxObE"
      },
      "execution_count": null,
      "outputs": []
    },
    {
      "cell_type": "markdown",
      "source": [
        "### Eye and Identity"
      ],
      "metadata": {
        "id": "MI9WCZX7xRGq"
      }
    },
    {
      "cell_type": "code",
      "source": [
        "import numpy as np\n",
        "np.set_printoptions(legacy='1.13')\n",
        "\n",
        "N, M = map(int, input().split())\n",
        "print(np.eye(N,M, dtype=float))\n",
        "\n"
      ],
      "metadata": {
        "id": "EGA01BzJxVKo"
      },
      "execution_count": null,
      "outputs": []
    },
    {
      "cell_type": "markdown",
      "source": [
        "### Array Mathematics"
      ],
      "metadata": {
        "id": "CZ9UTmQGxXyk"
      }
    },
    {
      "cell_type": "code",
      "source": [
        "import numpy as np\n",
        "\n",
        "N, M = map(int, input().split())\n",
        "\n",
        "A = []\n",
        "B = []\n",
        "\n",
        "for i in range(N):\n",
        "    row = list(map(int, input().split()))\n",
        "    A.append(row)\n",
        "\n",
        "for i in range(N):\n",
        "    row = list(map(int, input().split()))\n",
        "    B.append(row)\n",
        "\n",
        "A = np.array(A)\n",
        "B = np.array(B)\n",
        "\n",
        "print(np.add(A,B))\n",
        "print(np.subtract(A,B))\n",
        "print(np.multiply(A,B))\n",
        "print(np.floor_divide(A,B))\n",
        "print(np.mod(A,B))\n",
        "print(np.power(A,B))\n",
        "\n"
      ],
      "metadata": {
        "id": "m4pXUvdtxdZ8"
      },
      "execution_count": null,
      "outputs": []
    },
    {
      "cell_type": "markdown",
      "source": [
        "### FLoor, Ceil, and Rint"
      ],
      "metadata": {
        "id": "rAzfPtk8xgoB"
      }
    },
    {
      "cell_type": "code",
      "source": [
        "import numpy as np\n",
        "np.set_printoptions(legacy='1.13')\n",
        "\n",
        "A = list(map(float, input().split()))\n",
        "A = np.array(A)\n",
        "\n",
        "print(np.floor(A))\n",
        "print(np.ceil(A))\n",
        "print(np.rint(A))"
      ],
      "metadata": {
        "id": "7nEE9Vc9xl4i"
      },
      "execution_count": null,
      "outputs": []
    },
    {
      "cell_type": "markdown",
      "source": [
        "### Sum and Prod"
      ],
      "metadata": {
        "id": "R0ZCP8TSxm7u"
      }
    },
    {
      "cell_type": "code",
      "source": [
        "import numpy as np\n",
        "\n",
        "\n",
        "N, M = map(int, input().split())\n",
        "A = []\n",
        "\n",
        "\n",
        "for i in range(N):\n",
        "    row = list(map(int, input().split()))\n",
        "    A.append(row)\n",
        "\n",
        "A = np.array(A)\n",
        "column_sum = np.sum(A, axis=0)\n",
        "product_result = np.prod(column_sum)\n",
        "\n",
        "print(product_result)\n"
      ],
      "metadata": {
        "id": "HwMc47tVxr0R"
      },
      "execution_count": null,
      "outputs": []
    },
    {
      "cell_type": "markdown",
      "source": [
        "### Min and Max"
      ],
      "metadata": {
        "id": "K3QFD_Drxvv8"
      }
    },
    {
      "cell_type": "code",
      "source": [
        "import numpy as np\n",
        "\n",
        "N,M = map(int, input().split())\n",
        "A = []\n",
        "\n",
        "for i in range(N):\n",
        "    row = list(map(int, input().split()))\n",
        "    A.append(row)\n",
        "\n",
        "A = np.array(A)\n",
        "\n",
        "output = np.min(A, axis=1)\n",
        "\n",
        "print(np.max(output))"
      ],
      "metadata": {
        "id": "N7fUBw8Xx4VU"
      },
      "execution_count": null,
      "outputs": []
    },
    {
      "cell_type": "markdown",
      "source": [
        "### Mean, Var, and STD"
      ],
      "metadata": {
        "id": "v-jNW8-dx6Wl"
      }
    },
    {
      "cell_type": "code",
      "source": [
        "import numpy as np\n",
        "\n",
        "N, M = map(int, input().split())\n",
        "A = []\n",
        "\n",
        "for i in range(N):\n",
        "\n",
        "    row = list(map(int, input().split()))\n",
        "    A.append(row)\n",
        "\n",
        "A = np.array(A)\n",
        "\n",
        "print(np.mean(A, axis = 1))\n",
        "print(np.var(A, axis = 0))\n",
        "print(round(np.std(A),11))\n"
      ],
      "metadata": {
        "id": "7FUYHHoWx_0Y"
      },
      "execution_count": null,
      "outputs": []
    },
    {
      "cell_type": "markdown",
      "source": [
        "### Dot and Cross"
      ],
      "metadata": {
        "id": "Jeo8koo8yBEA"
      }
    },
    {
      "cell_type": "code",
      "source": [
        "import numpy as np\n",
        "\n",
        "N = int(input())\n",
        "A = []\n",
        "B = []\n",
        "\n",
        "for i in range(N):\n",
        "    row = list(map(int, input().split()))\n",
        "    A.append(row)\n",
        "\n",
        "for i in range(N):\n",
        "    row = list(map(int, input().split()))\n",
        "    B.append(row)\n",
        "\n",
        "A = np.array(A)\n",
        "B = np.array(B)\n",
        "\n",
        "print(np.dot(A, B))\n"
      ],
      "metadata": {
        "id": "vGgbS2YLyHR-"
      },
      "execution_count": null,
      "outputs": []
    },
    {
      "cell_type": "markdown",
      "source": [
        "### Inner and Outter"
      ],
      "metadata": {
        "id": "lHIv1p8EyIf2"
      }
    },
    {
      "cell_type": "code",
      "source": [
        "import numpy as np\n",
        "A = list(map(int, input().split()))\n",
        "B = list(map(int, input().split()))\n",
        "\n",
        "print(np.inner(A, B))\n",
        "print(np.outer(A, B))"
      ],
      "metadata": {
        "id": "jLLdX9PNyMxh"
      },
      "execution_count": null,
      "outputs": []
    },
    {
      "cell_type": "markdown",
      "source": [
        "### Polynomials"
      ],
      "metadata": {
        "id": "AR4zZ3JvyPTp"
      }
    },
    {
      "cell_type": "code",
      "source": [
        "import numpy as np\n",
        "\n",
        "P = list(map(float, input().split()))\n",
        "X = int(input())\n",
        "\n",
        "print(np.polyval(P, X))\n"
      ],
      "metadata": {
        "id": "rrL2wMMbyULV"
      },
      "execution_count": null,
      "outputs": []
    },
    {
      "cell_type": "markdown",
      "source": [
        "### Linear Algebra"
      ],
      "metadata": {
        "id": "HA6McADNyVE-"
      }
    },
    {
      "cell_type": "code",
      "source": [
        "import numpy as np\n",
        "\n",
        "N = int(input())\n",
        "A = []\n",
        "\n",
        "for i in range(N):\n",
        "    row = list(map(float, input().split()))\n",
        "    A.append(row)\n",
        "\n",
        "print(round(np.linalg.det(A), 2))\n"
      ],
      "metadata": {
        "id": "N_DqRetsyWHz"
      },
      "execution_count": null,
      "outputs": []
    },
    {
      "cell_type": "markdown",
      "source": [
        "### XML 1 - Find the Score"
      ],
      "metadata": {
        "id": "weT2oNzjycNG"
      }
    },
    {
      "cell_type": "code",
      "source": [
        "\n",
        "\n",
        "def get_attr_number(node):\n",
        "    xml = len(node.attrib)\n",
        "    for i in node:\n",
        "        xml += get_attr_number(i)\n",
        "    return xml"
      ],
      "metadata": {
        "id": "FHtds_F5ydSG"
      },
      "execution_count": null,
      "outputs": []
    },
    {
      "cell_type": "markdown",
      "source": [
        "### XML2 - Find the Maximum Dept"
      ],
      "metadata": {
        "id": "pCUohB5Xyf6M"
      }
    },
    {
      "cell_type": "code",
      "source": [
        "\n",
        "\n",
        "maxdepth = 0\n",
        "\n",
        "def depth(elem, level):\n",
        "    global maxdepth\n",
        "    if level == -1:\n",
        "        level = 0\n",
        "    else:\n",
        "        level += 1\n",
        "    if level > maxdepth:\n",
        "        maxdepth = level\n",
        "    for child in elem:\n",
        "        depth(child, level)"
      ],
      "metadata": {
        "id": "wLOZSsQsyjIN"
      },
      "execution_count": null,
      "outputs": []
    },
    {
      "cell_type": "markdown",
      "source": [
        "### Detect Floating Point Number"
      ],
      "metadata": {
        "id": "1N645ZYBynOJ"
      }
    },
    {
      "cell_type": "code",
      "source": [
        "# Enter your code here. Read input from STDIN. Print output to STDOUT\n",
        "\n",
        "import re\n",
        "\n",
        "\n",
        "if __name__ == \"__main__\":\n",
        "\n",
        "    T = int(input())\n",
        "    for _ in range(T):\n",
        "        s = input().strip()\n",
        "        if re.match(r'^[+-]?\\d*\\.\\d+$', s):\n",
        "            try:\n",
        "                float(s)\n",
        "                print(True)\n",
        "            except ValueError:\n",
        "                print(False)\n",
        "        else:\n",
        "            print(False)\n"
      ],
      "metadata": {
        "id": "AccUDmfTyy5J"
      },
      "execution_count": null,
      "outputs": []
    },
    {
      "cell_type": "markdown",
      "source": [
        "### Re.split()"
      ],
      "metadata": {
        "id": "aJl_Sdqvy1Ga"
      }
    },
    {
      "cell_type": "code",
      "source": [
        "regex_pattern = r'[.,](?=\\d)'\t# Do not delete 'r'."
      ],
      "metadata": {
        "id": "LFqtZu_zy6nR"
      },
      "execution_count": null,
      "outputs": []
    },
    {
      "cell_type": "markdown",
      "source": [
        "### Group(), Groups() & Groupdict()\n"
      ],
      "metadata": {
        "id": "6kIQHyryy7wS"
      }
    },
    {
      "cell_type": "code",
      "source": [
        "# Enter your code here. Read input from STDIN. Print output to STDOUT\n",
        "\n",
        "s = input()\n",
        "output = -1\n",
        "\n",
        "for i in range(len(s) - 1):\n",
        "    if s[i].isalnum() and s[i] == s[i + 1]:\n",
        "        output = s[i]\n",
        "        break\n",
        "\n",
        "print(output)\n"
      ],
      "metadata": {
        "id": "gLuWJzeezDh3"
      },
      "execution_count": null,
      "outputs": []
    },
    {
      "cell_type": "markdown",
      "source": [
        "### Re.findall() & Re.finditer()"
      ],
      "metadata": {
        "id": "d-FE2UMrzGq4"
      }
    },
    {
      "cell_type": "code",
      "source": [
        "# Enter your code here. Read input from STDIN. Print output to STDOUT\n",
        "\n",
        "import re\n",
        "\n",
        "s = input()\n",
        "pattern = r'(?<=[qwrtypsdfghjklzxcvbnmQWRTYPSDFGHJKLZXCVBNM])[aeiouAEIOU]{2,}(?=[qwrtypsdfghjklzxcvbnmQWRTYPSDFGHJKLZXCVBNM])'\n",
        "\n",
        "matches = re.findall(pattern, s)\n",
        "\n",
        "\n",
        "if matches:\n",
        "    for match in matches:\n",
        "        print(match)\n",
        "else:\n",
        "    print(-1)\n"
      ],
      "metadata": {
        "id": "zI3g9C2BzP2g"
      },
      "execution_count": null,
      "outputs": []
    },
    {
      "cell_type": "markdown",
      "source": [
        "### Re.start() & Re.end()"
      ],
      "metadata": {
        "id": "25UX9JqGzSFo"
      }
    },
    {
      "cell_type": "code",
      "source": [
        "import re\n",
        "\n",
        "text = input().strip()\n",
        "pattern = input().strip()\n",
        "pattern = r'(?=('+pattern+'))'\n",
        "matches = list(re.finditer(pattern, text))\n",
        "\n",
        "if matches:\n",
        "    for match in matches:\n",
        "        start_index = match.start(1)\n",
        "        end_index = match.end(1) - 1\n",
        "        print((start_index, end_index))\n",
        "else:\n",
        "    print((-1, -1))\n"
      ],
      "metadata": {
        "id": "7e3p9lcoza2X"
      },
      "execution_count": null,
      "outputs": []
    },
    {
      "cell_type": "markdown",
      "source": [
        "### Regex Substitution"
      ],
      "metadata": {
        "id": "zrNHYTJJzbxf"
      }
    },
    {
      "cell_type": "code",
      "source": [
        "n = int(input())\n",
        "\n",
        "for _ in range(n):\n",
        "    line = input()\n",
        "    while ' && ' in line or ' || ' in line:\n",
        "        line = line.replace(' && ', ' and ').replace(' || ', ' or ')\n",
        "    print(line)\n"
      ],
      "metadata": {
        "id": "7yCHRMGRzg66"
      },
      "execution_count": null,
      "outputs": []
    },
    {
      "cell_type": "markdown",
      "source": [
        "### Validating Roman Numerals"
      ],
      "metadata": {
        "id": "vIbm7SO_zirY"
      }
    },
    {
      "cell_type": "code",
      "source": [
        "regex_pattern = r'^(M{0,3}(CM|CD|D?C{0,3})(XC|XL|L?X{0,3})(IX|IV|V?I{0,3})|M{0,3}(CM|CD|D?C{0,3})|M{0,3}(XC|XL|L?X{0,3})|M{0,3}(IX|IV|V?I{0,3})|CM|CD|D?C{0,3}(XC|XL|L?X{0,3})(IX|IV|V?I{0,3})|D?C{0,3}(XC|XL|L?X{0,3})(IX|IV|V?I{0,3})|D?C{0,3}(XC|XL|L?X{0,3})|D?C{0,3}(IX|IV|V?I{0,3})|XC|XL|L?X{0,3}(IX|IV|V?I{0,3})|XL|L?X{0,3}(IX|IV|V?I{0,3})|IX|IV|V?I{0,3})$'\n",
        "\n"
      ],
      "metadata": {
        "id": "Sn_Nul0wzmbG"
      },
      "execution_count": null,
      "outputs": []
    },
    {
      "cell_type": "markdown",
      "source": [
        "### Validating phone numbers"
      ],
      "metadata": {
        "id": "CqcxrpdszrsL"
      }
    },
    {
      "cell_type": "code",
      "source": [
        "# Enter your code here. Read input from STDIN. Print output to STDOUT\n",
        "\n",
        "import re\n",
        "\n",
        "n = int(input())\n",
        "pattern = r'^[789]\\d{9}$'\n",
        "for _ in range(n):\n",
        "    number = input().strip()\n",
        "    if bool(re.match(pattern, number)):\n",
        "        print(\"YES\")\n",
        "    else:\n",
        "        print(\"NO\")\n"
      ],
      "metadata": {
        "id": "Uh5kbpjGzu6z"
      },
      "execution_count": null,
      "outputs": []
    },
    {
      "cell_type": "markdown",
      "source": [
        "### Validating and Parsing Email Addresses"
      ],
      "metadata": {
        "id": "5RN2EIwjzwld"
      }
    },
    {
      "cell_type": "code",
      "source": [
        "import re\n",
        "\n",
        "n = int(input())\n",
        "for _ in range(n):\n",
        "    name, email = input().split()\n",
        "    pattern = r'^[a-zA-Z][\\w\\.-]*@[a-zA-Z]+\\.[a-zA-Z]{1,3}$'\n",
        "    match = re.match(pattern, email[1:-1])\n",
        "    if match:\n",
        "        print(name, email)\n"
      ],
      "metadata": {
        "id": "2zNmLnezz1mU"
      },
      "execution_count": null,
      "outputs": []
    },
    {
      "cell_type": "markdown",
      "source": [
        "### Hex Color Code"
      ],
      "metadata": {
        "id": "_0oyrK0Iz4xa"
      }
    },
    {
      "cell_type": "code",
      "source": [
        "import re\n",
        "\n",
        "N = int(input())\n",
        "code = []\n",
        "\n",
        "for i in range(N):\n",
        "    line = input()\n",
        "    code.append(line)\n",
        "\n",
        "for i in range(N):\n",
        "    row = re.findall('(?!\\A)(#[a-fA-f_0-9]{6}|#[a-fA-f_0-9]{3})', code[i])\n",
        "    if row != []:\n",
        "        for j in row:\n",
        "            print(j)\n"
      ],
      "metadata": {
        "id": "VmEdhUuIz95y"
      },
      "execution_count": null,
      "outputs": []
    },
    {
      "cell_type": "markdown",
      "source": [
        "### HTML Parser - Part 1"
      ],
      "metadata": {
        "id": "QEzfMosOz-9a"
      }
    },
    {
      "cell_type": "code",
      "source": [
        "from html.parser import HTMLParser\n",
        "\n",
        "def starttag(tag, attrs):\n",
        "    print(\"Start :\", tag)\n",
        "    for attr in attrs:\n",
        "        print(f\"-> {attr[0]} > {attr[1] if attr[1] else 'None'}\")\n",
        "\n",
        "def endtag(tag):\n",
        "    print(\"End   :\", tag)\n",
        "\n",
        "def startendtag(tag, attrs):\n",
        "    print(\"Empty :\", tag)\n",
        "    for attr in attrs:\n",
        "        print(f\"-> {attr[0]} > {attr[1] if attr[1] else 'None'}\")\n",
        "\n",
        "def parse_html(code):\n",
        "    parser = HTMLParser()\n",
        "    parser.handle_starttag = starttag\n",
        "    parser.handle_endtag = endtag\n",
        "    parser.handle_startendtag = startendtag\n",
        "    parser.feed(code)\n",
        "\n",
        "n = int(input())\n",
        "code = \"\"\n",
        "for _ in range(n):\n",
        "    code += input()\n",
        "\n",
        "parse_html(code)\n"
      ],
      "metadata": {
        "id": "EuWWzyOJ0FdY"
      },
      "execution_count": null,
      "outputs": []
    },
    {
      "cell_type": "markdown",
      "source": [
        "HTML Parser - Part 2"
      ],
      "metadata": {
        "id": "EzLdtVSE0G3I"
      }
    },
    {
      "cell_type": "code",
      "source": [
        "from html.parser import HTMLParser\n",
        "\n",
        "class MyHTMLParser(HTMLParser):\n",
        "\n",
        "    def handle_comment(self, data):\n",
        "        if \"\\n\" in data and data != \"\\n\":\n",
        "            print(\">>> Multi-line Comment \\n{}\".format(data.strip()))\n",
        "\n",
        "        elif data != \"\\n\":\n",
        "            print(\">>> Single-line Comment \\n{}\".format(data.strip()))\n",
        "\n",
        "    def handle_data(self, data):\n",
        "        if data != \"\\n\":\n",
        "            print(\">>> Data\\n{}\".format(data))\n",
        "\n",
        "\n",
        "html = \"\"\n",
        "for i in range(int(input())):\n",
        "    html += input().rstrip()\n",
        "    html += '\\n'\n",
        "\n",
        "parser = MyHTMLParser()\n",
        "parser.feed(html)\n",
        "parser.close()\n"
      ],
      "metadata": {
        "id": "YXrlS7zW0He_"
      },
      "execution_count": null,
      "outputs": []
    },
    {
      "cell_type": "markdown",
      "source": [
        "### Validating UID"
      ],
      "metadata": {
        "id": "IkvjSE7X0PHl"
      }
    },
    {
      "cell_type": "code",
      "source": [
        "import re\n",
        "n = int(input())\n",
        "\n",
        "for _ in range(n):\n",
        "    UID = input().strip()\n",
        "\n",
        "    if len(re.findall(r'[A-Z]', UID)) < 2:\n",
        "        print(\"Invalid\")\n",
        "        continue\n",
        "\n",
        "    if len(re.findall(r'\\d', UID)) < 3:\n",
        "        print(\"Invalid\")\n",
        "        continue\n",
        "\n",
        "    if not re.match(r'^[A-Za-z0-9-]+$', UID):\n",
        "        print(\"Invalid\")\n",
        "        continue\n",
        "\n",
        "    if len(set(UID)) != len(UID):\n",
        "        print(\"Invalid\")\n",
        "        continue\n",
        "\n",
        "    if len(UID) != 10:\n",
        "        print(\"Invalid\")\n",
        "    else:\n",
        "        print(\"Valid\")\n"
      ],
      "metadata": {
        "id": "9JjLSUhI0UFq"
      },
      "execution_count": null,
      "outputs": []
    },
    {
      "cell_type": "markdown",
      "source": [
        "### Detect HTML Tags, Attributes and Attribute Values"
      ],
      "metadata": {
        "id": "K8j-R4ki0b4C"
      }
    },
    {
      "cell_type": "code",
      "source": [
        "from html.parser import HTMLParser\n",
        "\n",
        "class MyHTMLParser(HTMLParser):\n",
        "    def handle_starttag(self, tag, attrs):\n",
        "        print(tag)\n",
        "        for attr, value in attrs:\n",
        "            print(f\"-> {attr} > {value}\")\n",
        "\n",
        "    def handle_endtag(self, tag):\n",
        "        pass\n",
        "\n",
        "    def handle_startendtag(self, tag, attrs):\n",
        "        print(tag)\n",
        "        for attr, value in attrs:\n",
        "            print(f\"-> {attr} > {value}\")\n",
        "\n",
        "n = int(input())\n",
        "code = \"\"\n",
        "for _ in range(n):\n",
        "    code += input() + \"\\n\"\n",
        "\n",
        "parser = MyHTMLParser()\n",
        "parser.feed(code)\n"
      ],
      "metadata": {
        "id": "k_t9um4d0f8z"
      },
      "execution_count": null,
      "outputs": []
    },
    {
      "cell_type": "markdown",
      "source": [
        "### Validating Credit Card Numbers"
      ],
      "metadata": {
        "id": "WGE1Mutk0hNf"
      }
    },
    {
      "cell_type": "code",
      "source": [
        "import re\n",
        "\n",
        "n = int(input())\n",
        "cards = []\n",
        "\n",
        "for i in range(n):\n",
        "    card = input()\n",
        "    cards.append(card)\n",
        "\n",
        "for card in cards:\n",
        "    if re.match(r'^(4|5|6)\\d{3}-?\\d{4}-?\\d{4}-?\\d{4}$', card):\n",
        "        card = card.replace(\"-\", \"\")\n",
        "        if re.search(r'(\\d)(\\1{3,})', card):\n",
        "            print(\"Invalid\")\n",
        "        else:\n",
        "            print(\"Valid\")\n",
        "    else:\n",
        "        print(\"Invalid\")"
      ],
      "metadata": {
        "id": "PLFWk7Sg0krM"
      },
      "execution_count": null,
      "outputs": []
    },
    {
      "cell_type": "markdown",
      "source": [
        "## Problem 2"
      ],
      "metadata": {
        "id": "9Vzg4PO7FclD"
      }
    },
    {
      "cell_type": "markdown",
      "source": [
        "### Birthday Cake Candles"
      ],
      "metadata": {
        "id": "eK67AmLOamcY"
      }
    },
    {
      "cell_type": "code",
      "source": [
        "#!/bin/python3\n",
        "\n",
        "import math\n",
        "import os\n",
        "import random\n",
        "import re\n",
        "import sys\n",
        "\n",
        "def birthdayCakeCandles(candles):\n",
        "    # Write your code here\n",
        "    highest = max(candles)\n",
        "    c = 0\n",
        "    for candle in candles:\n",
        "     if candle == highest:\n",
        "         c +=1\n",
        "    return c\n",
        "\n",
        "if __name__ == '__main__':\n",
        "    fptr = open(os.environ['OUTPUT_PATH'], 'w')\n",
        "\n",
        "    candles_count = int(input().strip())\n",
        "\n",
        "    candles = list(map(int, input().rstrip().split()))\n",
        "\n",
        "    result = birthdayCakeCandles(candles)\n",
        "\n",
        "    fptr.write(str(result) + '\\n')\n",
        "\n",
        "    fptr.close()\n"
      ],
      "metadata": {
        "id": "3vRYyh1haqJg"
      },
      "execution_count": null,
      "outputs": []
    },
    {
      "cell_type": "markdown",
      "source": [
        "### Number Line Jumps"
      ],
      "metadata": {
        "id": "YFpjxo3CayHo"
      }
    },
    {
      "cell_type": "code",
      "source": [
        "import math\n",
        "import os\n",
        "import random\n",
        "import re\n",
        "import sys\n",
        "\n",
        "\n",
        "def kangaroo(x1, v1, x2, v2):\n",
        "    # Write your code here\n",
        "    if v1 == v2:\n",
        "        if x1 == x2:\n",
        "            return 'YES'\n",
        "        else:\n",
        "            return 'NO'\n",
        "    elif (x2 - x1) % (v1 - v2) == 0 and (x2 - x1) // (v1 - v2) >= 0:\n",
        "        return 'YES'\n",
        "    else:\n",
        "        return 'NO'\n",
        "\n",
        "if __name__ == '__main__':\n",
        "    fptr = open(os.environ['OUTPUT_PATH'], 'w')\n",
        "\n",
        "    first_multiple_input = input().rstrip().split()\n",
        "\n",
        "    x1 = int(first_multiple_input[0])\n",
        "    v1 = int(first_multiple_input[1])\n",
        "    x2 = int(first_multiple_input[2])\n",
        "    v2 = int(first_multiple_input[3])\n",
        "\n",
        "    result = kangaroo(x1, v1, x2, v2)\n",
        "    fptr.write(result + '\\n')\n",
        "    fptr.close()\n"
      ],
      "metadata": {
        "id": "erUTnfS9a3-H"
      },
      "execution_count": null,
      "outputs": []
    },
    {
      "cell_type": "markdown",
      "source": [
        "### Viral Advertising"
      ],
      "metadata": {
        "id": "-YnAUuBga-bS"
      }
    },
    {
      "cell_type": "code",
      "source": [
        "#!/bin/python3\n",
        "\n",
        "import math\n",
        "import os\n",
        "import random\n",
        "import re\n",
        "import sys\n",
        "\n",
        "\n",
        "\n",
        "def viralAdvertising(n):\n",
        "    # Write your code here\n",
        "    days = []\n",
        "    day1 = [1,5,2,2]\n",
        "    days.append(day1)\n",
        "\n",
        "    for i in range(1,n):\n",
        "        day = [i+1, (math.floor(days[i-1][1]/2))*3,((math.floor(days[i-1][1]/2))*3)//2, (((math.floor(days[i-1][1]/2))*3)//2)+ days[i-1][3] ]\n",
        "        days.append(day)\n",
        "    return days[n-1][3]\n",
        "\n",
        "if __name__ == '__main__':\n",
        "\n",
        "    fptr = open(os.environ['OUTPUT_PATH'], 'w')\n",
        "    n = int(input().strip())\n",
        "    result = viralAdvertising(n)\n",
        "    fptr.write(str(result) + '\\n')\n",
        "    fptr.close()\n"
      ],
      "metadata": {
        "id": "6a1wnWNobC8Z"
      },
      "execution_count": null,
      "outputs": []
    },
    {
      "cell_type": "markdown",
      "source": [
        "### Recursive Digit sum"
      ],
      "metadata": {
        "id": "yzsygJCJbMp8"
      }
    },
    {
      "cell_type": "code",
      "source": [
        "import math\n",
        "import os\n",
        "import random\n",
        "import re\n",
        "import sys\n",
        "\n",
        "def superDigit(n, k):\n",
        "    # Write your code here\n",
        "\n",
        "    summ = 0\n",
        "\n",
        "    for char in n:\n",
        "        summ =  summ + int(char)\n",
        "\n",
        "    super_digit = [str(summ) for i in range(k)]\n",
        "    super_digit = \"\".join(super_digit)\n",
        "\n",
        "    while True:\n",
        "        if len(str(super_digit)) == 1:\n",
        "            return super_digit\n",
        "\n",
        "        else:\n",
        "            x = 0\n",
        "            for char in str(super_digit):\n",
        "                x = x + int(char)\n",
        "            super_digit = x\n",
        "\n",
        "\n",
        "if __name__ == '__main__':\n",
        "    fptr = open(os.environ['OUTPUT_PATH'], 'w')\n",
        "\n",
        "    first_multiple_input = input().rstrip().split()\n",
        "    n = first_multiple_input[0]\n",
        "    k = int(first_multiple_input[1])\n",
        "    result = superDigit(n, k)\n",
        "    fptr.write(str(result) + '\\n')\n",
        "    fptr.close()\n"
      ],
      "metadata": {
        "id": "dOjn99PnbSbZ"
      },
      "execution_count": null,
      "outputs": []
    },
    {
      "cell_type": "markdown",
      "source": [
        "### Insertion Sort Part 1"
      ],
      "metadata": {
        "id": "wVcJkdr9bcdF"
      }
    },
    {
      "cell_type": "code",
      "source": [
        "import math\n",
        "import os\n",
        "import random\n",
        "import re\n",
        "import sys\n",
        "\n",
        "def insertionSort1(n, arr):\n",
        "\n",
        "    element = arr[n - 1]\n",
        "    i = n - 2\n",
        "\n",
        "    while i >= 0 and arr[i] > element:\n",
        "        arr[i + 1] = arr[i]\n",
        "        print(\" \".join(map(str, arr)))\n",
        "        i = i - 1\n",
        "\n",
        "    arr[i + 1] = element\n",
        "    print(\" \".join(map(str, arr)))\n",
        "\n",
        "if __name__ == '__main__':\n",
        "    n = int(input().strip())\n",
        "\n",
        "    arr = list(map(int, input().rstrip().split()))\n",
        "\n",
        "    insertionSort1(n, arr)\n"
      ],
      "metadata": {
        "id": "gq2H8UYMc51J"
      },
      "execution_count": null,
      "outputs": []
    },
    {
      "cell_type": "markdown",
      "source": [
        "### Insertion Sort Part 2"
      ],
      "metadata": {
        "id": "Z3hFPDNadGr5"
      }
    },
    {
      "cell_type": "code",
      "source": [
        "import math\n",
        "import os\n",
        "import random\n",
        "import re\n",
        "import sys\n",
        "\n",
        "def insertionSort2(n, arr):\n",
        "    # Write your code here\n",
        "\n",
        "     for i in range(1, n):\n",
        "        current = arr[i]\n",
        "        j = i-1\n",
        "\n",
        "        while j >= 0 and arr[j] > current:\n",
        "            arr[j+1] = arr[j]\n",
        "            j = j-1\n",
        "        arr[j+1] = current\n",
        "\n",
        "        print(\" \".join(map(str, arr)))\n",
        "\n",
        "\n",
        "\n",
        "if __name__ == '__main__':\n",
        "    n = int(input().strip())\n",
        "\n",
        "    arr = list(map(int, input().rstrip().split()))\n",
        "\n",
        "    insertionSort2(n, arr)\n"
      ],
      "metadata": {
        "id": "ePRS6KzedH1_"
      },
      "execution_count": null,
      "outputs": []
    }
  ]
}